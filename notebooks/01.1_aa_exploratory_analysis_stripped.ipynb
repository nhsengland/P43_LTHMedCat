{
 "cells": [
  {
   "cell_type": "markdown",
   "id": "e6019c12",
   "metadata": {},
   "source": [
    "# Exploring Clinic Letter Corpus"
   ]
  },
  {
   "cell_type": "markdown",
   "id": "ac238adc",
   "metadata": {},
   "source": [
    "###\n",
    "    author: naa\n",
    "    created: 2023-04-03\n",
    "    version: 0.1.0\n",
    "\n",
    "   Basic NLP EDA and pre-processing of sentences from corpus"
   ]
  },
  {
   "cell_type": "code",
   "execution_count": null,
   "id": "e1db1831-0689-44af-b5ea-fed7019bef72",
   "metadata": {},
   "outputs": [],
   "source": [
    "# import relevant packages\n",
    "import numpy as np\n",
    "import pandas as pd\n",
    "import seaborn as sns\n",
    "import matplotlib.pyplot as plt\n",
    "import re\n",
    "import string\n",
    "import math"
   ]
  },
  {
   "cell_type": "code",
   "execution_count": null,
   "id": "e84b3a9b",
   "metadata": {},
   "outputs": [],
   "source": [
    "dir_root = \"/home/jovyan/nhsx_nlp\""
   ]
  },
  {
   "cell_type": "code",
   "execution_count": null,
   "id": "b596db64",
   "metadata": {},
   "outputs": [],
   "source": [
    "%matplotlib inline"
   ]
  },
  {
   "cell_type": "markdown",
   "id": "de1f91cf",
   "metadata": {},
   "source": [
    "# load data"
   ]
  },
  {
   "cell_type": "code",
   "execution_count": null,
   "id": "d860a0f6",
   "metadata": {},
   "outputs": [],
   "source": [
    "path_data = dir_root + '/data/raw/neurology_letters_2023_03_18.csv'\n",
    "df = pd.read_csv(path_data)\n",
    "df"
   ]
  },
  {
   "cell_type": "markdown",
   "id": "b1b7f109",
   "metadata": {},
   "source": [
    "# Describe data"
   ]
  },
  {
   "cell_type": "code",
   "execution_count": null,
   "id": "7c27cf85",
   "metadata": {},
   "outputs": [],
   "source": [
    "df.info()"
   ]
  },
  {
   "cell_type": "code",
   "execution_count": null,
   "id": "5826c6eb",
   "metadata": {},
   "outputs": [],
   "source": [
    "# create column for document length in terms of characters\n",
    "df['char_len'] = df['doctext'].astype(str).apply(len)\n",
    "\n",
    "# create column for doc length in terms of word count\n",
    "df['doc_len'] = df['doctext'].apply(lambda x: len(str(x).split()))\n",
    "\n",
    "#check df after adding character length and word length columns\n",
    "df"
   ]
  },
  {
   "cell_type": "markdown",
   "id": "9edf8774",
   "metadata": {},
   "source": [
    "## Look at unique values"
   ]
  },
  {
   "cell_type": "code",
   "execution_count": null,
   "id": "b28a95ee",
   "metadata": {},
   "outputs": [],
   "source": [
    "df.nunique()"
   ]
  },
  {
   "cell_type": "code",
   "execution_count": null,
   "id": "8934b5a7",
   "metadata": {},
   "outputs": [],
   "source": [
    "'''seems that all documents are unique, but how do we relate this to the clinic letters and patients?'''"
   ]
  },
  {
   "cell_type": "code",
   "execution_count": null,
   "id": "6fa9c432",
   "metadata": {},
   "outputs": [],
   "source": [
    "df.describe()"
   ]
  },
  {
   "cell_type": "markdown",
   "id": "c595cc7a",
   "metadata": {},
   "source": [
    "## Visualise data"
   ]
  },
  {
   "cell_type": "markdown",
   "id": "42693819",
   "metadata": {},
   "source": [
    "### histogram of word counts"
   ]
  },
  {
   "cell_type": "code",
   "execution_count": null,
   "id": "2aa29037",
   "metadata": {},
   "outputs": [],
   "source": [
    "# Set size and color for plots with Seabon\n",
    "sns.reset_defaults()\n",
    "sns.set(\n",
    "    rc={'figure.figsize':(25,30)}, \n",
    "    style=\"white\"\n",
    ")"
   ]
  },
  {
   "cell_type": "code",
   "execution_count": null,
   "id": "aa4ab221",
   "metadata": {},
   "outputs": [],
   "source": [
    "# Histogram of 'Count of Documents vs Document Length by Number of Words'\n",
    "df['doc_len'].hist(bins=100)\n",
    "#'df['doc_len'].plot(kind = \"kde\")\n",
    "plt.title('Count of Documents vs Document Length by Number of Words', fontsize='20')\n",
    "plt.xlabel('Document Length by Number of Words', fontsize='18')\n",
    "plt.ylabel('Count of Documents', fontsize='18')\n",
    "plt.show()"
   ]
  },
  {
   "cell_type": "markdown",
   "id": "72b1a1f1",
   "metadata": {},
   "source": [
    "### histogram of character lengths per doc"
   ]
  },
  {
   "cell_type": "code",
   "execution_count": null,
   "id": "2aa29037",
   "metadata": {},
   "outputs": [],
   "source": [
    "# Set size and color for plots\n",
    "sns.reset_defaults()\n",
    "sns.set(\n",
    "    rc={'figure.figsize':(25,30)}, \n",
    "    style=\"white\"\n",
    ")"
   ]
  },
  {
   "cell_type": "code",
   "execution_count": null,
   "id": "8c56ae00",
   "metadata": {},
   "outputs": [],
   "source": [
    "# Histogram of 'Count of Documents vs Document Length by Number of Characters'\n",
    "df['char_len'].hist(bins=100)\n",
    "plt.title('Count of Documents vs Document Length by Number of Characters', fontsize='20')\n",
    "plt.xlabel('Document Length by Number of Characters', fontsize='18')\n",
    "plt.ylabel('Count of Documents', fontsize='18')\n",
    "plt.show()"
   ]
  },
  {
   "cell_type": "markdown",
   "id": "28a52e75",
   "metadata": {},
   "source": [
    "# Word-level analysis"
   ]
  },
  {
   "cell_type": "markdown",
   "id": "f78d220b",
   "metadata": {},
   "source": [
    "## create one text document of all words in corpus"
   ]
  },
  {
   "cell_type": "code",
   "execution_count": null,
   "id": "6433ef97",
   "metadata": {},
   "outputs": [],
   "source": [
    "# create one string of all sentences in corpus (separated by a space) then create list of individual words\n",
    "text = ' '.join(t for t in df['doctext'])\n",
    "words_list= text.split()"
   ]
  },
  {
   "cell_type": "code",
   "execution_count": null,
   "id": "f3b64f49",
   "metadata": {},
   "outputs": [],
   "source": [
    "# Create dictionary of each word and their counts\n",
    "word_freq = {}\n",
    "for word in set(words_list):\n",
    "    word_freq[word] = words_list.count(word)  \n"
   ]
  },
  {
   "cell_type": "code",
   "execution_count": null,
   "id": "0db21883",
   "metadata": {},
   "outputs": [],
   "source": [
    "#Creating dataframe of words\n",
    "df_word= pd.DataFrame(word_freq.items(),columns=['word','count'])"
   ]
  },
  {
   "cell_type": "code",
   "execution_count": null,
   "id": "ff0bd5c6",
   "metadata": {},
   "outputs": [],
   "source": [
    "# create column for length of word\n",
    "\n",
    "df_word['word_len']= df_word['word'].map(lambda x: len(x))\n",
    "# sorting values \n",
    "df_word=df_word.sort_values('count',ascending=False).reset_index(drop=True)\n",
    "\n",
    "#check df \n",
    "df_word"
   ]
  },
  {
   "cell_type": "code",
   "execution_count": null,
   "id": "e968116c",
   "metadata": {},
   "outputs": [],
   "source": [
    "# plot top 50 words\n",
    "df_top= df_word.head(30)\n",
    "sns.barplot(data= df_top, x =df_top['count'], y=df_top['word'])\n",
    "plt.ylabel('Word', fontsize = 20)\n",
    "plt.xlabel('Count', fontsize = 20)\n",
    "plt.tick_params(axis='both', which='major', labelsize=18)\n",
    "plt.show()"
   ]
  }
 ],
 "metadata": {
  "kernelspec": {
   "display_name": "Python 3 (ipykernel)",
   "language": "python",
   "name": "python3"
  },
  "language_info": {
   "codemirror_mode": {
    "name": "ipython",
    "version": 3
   },
   "file_extension": ".py",
   "mimetype": "text/x-python",
   "name": "python",
   "nbconvert_exporter": "python",
   "pygments_lexer": "ipython3",
   "version": "3.8.13 | packaged by conda-forge | (default, Mar 25 2022, 06:04:18) \n[GCC 10.3.0]"
  },
  "vscode": {
   "interpreter": {
    "hash": "d4d1e4263499bec80672ea0156c357c1ee493ec2b1c70f0acce89fc37c4a6abe"
   }
  }
 },
 "nbformat": 4,
 "nbformat_minor": 5
}
